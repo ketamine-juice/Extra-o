{
 "cells": [
  {
   "cell_type": "code",
   "id": "initial_id",
   "metadata": {
    "collapsed": true,
    "ExecuteTime": {
     "end_time": "2024-05-09T21:53:30.808208Z",
     "start_time": "2024-05-09T21:53:30.805900Z"
    }
   },
   "source": "import pandas",
   "outputs": [],
   "execution_count": 3
  },
  {
   "metadata": {},
   "cell_type": "markdown",
   "source": [
    "Dados obtidos por conversão das variáveis em R.\n",
    "Usei o packages TCGA BioLinks para transferir e depois exportei.\n",
    "\n",
    "A lógica\n",
    "```r\n",
    "write_csv(seqdata, 'seqdata.csv') # Para excluir os rownames e manter os nomes do gene\n",
    "write_csv(meta, 'meta.csv', rownames = FALSE) # Para manter o barcode\n",
    "```"
   ],
   "id": "eba970e067374e1e"
  },
  {
   "cell_type": "code",
   "source": [
    "seqdata = pandas.read_csv('./dataset/seqdata.csv')\n",
    "seqdata.head()"
   ],
   "metadata": {
    "collapsed": false,
    "ExecuteTime": {
     "end_time": "2024-05-09T21:53:33.790688Z",
     "start_time": "2024-05-09T21:53:32.470475Z"
    }
   },
   "id": "b3d0a5af1c502fed",
   "outputs": [
    {
     "data": {
      "text/plain": [
       "  Unnamed: 0  TCGA-38-7271-01A-11R-2039-07  TCGA-55-7914-01A-11R-2170-07  \\\n",
       "0     TSPAN6                          1536                          2936   \n",
       "1       TNMD                             0                             0   \n",
       "2       DPM1                           765                          1447   \n",
       "3      SCYL3                           510                           827   \n",
       "4   C1orf112                           172                           241   \n",
       "\n",
       "   TCGA-95-7043-01A-11R-1949-07  TCGA-73-4658-01A-01R-1755-07  \\\n",
       "0                          1475                          3659   \n",
       "1                             0                           188   \n",
       "2                          1275                           981   \n",
       "3                           373                           456   \n",
       "4                           172                           158   \n",
       "\n",
       "   TCGA-86-8076-01A-31R-2241-07  TCGA-55-7726-01A-11R-2170-07  \\\n",
       "0                          3269                          1188   \n",
       "1                             0                             0   \n",
       "2                          1540                          1564   \n",
       "3                          1171                           269   \n",
       "4                           318                           219   \n",
       "\n",
       "   TCGA-44-6147-01A-11R-A278-07  TCGA-50-5932-01A-11R-1755-07  \\\n",
       "0                          2178                          4545   \n",
       "1                             4                             0   \n",
       "2                          1430                          1557   \n",
       "3                          1139                          1185   \n",
       "4                           434                           322   \n",
       "\n",
       "   TCGA-44-2661-01A-01R-1107-07  ...  TCGA-50-5946-02A-11R-2090-07  \\\n",
       "0                          4558  ...                          5188   \n",
       "1                             0  ...                             0   \n",
       "2                          2089  ...                          2778   \n",
       "3                          1025  ...                          1031   \n",
       "4                           315  ...                           969   \n",
       "\n",
       "   TCGA-86-7713-01A-11R-2066-07  TCGA-86-8073-01A-11R-2241-07  \\\n",
       "0                          8522                          3418   \n",
       "1                             0                             0   \n",
       "2                          2548                          2937   \n",
       "3                          2384                          1008   \n",
       "4                          1790                           592   \n",
       "\n",
       "   TCGA-44-2662-01B-02R-A277-07  TCGA-MN-A4N4-01A-12R-A24X-07  \\\n",
       "0                           667                          3365   \n",
       "1                            10                             0   \n",
       "2                           554                          2244   \n",
       "3                           716                           777   \n",
       "4                           619                           451   \n",
       "\n",
       "   TCGA-53-7626-01A-12R-2066-07  TCGA-62-A46O-01A-11R-A24H-07  \\\n",
       "0                          3249                          5948   \n",
       "1                             0                             0   \n",
       "2                          1969                          1174   \n",
       "3                          1345                           628   \n",
       "4                           427                           572   \n",
       "\n",
       "   TCGA-44-A47G-01A-21R-A24H-07  TCGA-55-6969-01A-11R-1949-07  \\\n",
       "0                          2272                          2233   \n",
       "1                             0                             0   \n",
       "2                           851                          2803   \n",
       "3                           565                           940   \n",
       "4                           199                           647   \n",
       "\n",
       "   TCGA-55-6969-11A-01R-1949-07  \n",
       "0                           513  \n",
       "1                             1  \n",
       "2                           754  \n",
       "3                           350  \n",
       "4                            73  \n",
       "\n",
       "[5 rows x 601 columns]"
      ],
      "text/html": [
       "<div>\n",
       "<style scoped>\n",
       "    .dataframe tbody tr th:only-of-type {\n",
       "        vertical-align: middle;\n",
       "    }\n",
       "\n",
       "    .dataframe tbody tr th {\n",
       "        vertical-align: top;\n",
       "    }\n",
       "\n",
       "    .dataframe thead th {\n",
       "        text-align: right;\n",
       "    }\n",
       "</style>\n",
       "<table border=\"1\" class=\"dataframe\">\n",
       "  <thead>\n",
       "    <tr style=\"text-align: right;\">\n",
       "      <th></th>\n",
       "      <th>Unnamed: 0</th>\n",
       "      <th>TCGA-38-7271-01A-11R-2039-07</th>\n",
       "      <th>TCGA-55-7914-01A-11R-2170-07</th>\n",
       "      <th>TCGA-95-7043-01A-11R-1949-07</th>\n",
       "      <th>TCGA-73-4658-01A-01R-1755-07</th>\n",
       "      <th>TCGA-86-8076-01A-31R-2241-07</th>\n",
       "      <th>TCGA-55-7726-01A-11R-2170-07</th>\n",
       "      <th>TCGA-44-6147-01A-11R-A278-07</th>\n",
       "      <th>TCGA-50-5932-01A-11R-1755-07</th>\n",
       "      <th>TCGA-44-2661-01A-01R-1107-07</th>\n",
       "      <th>...</th>\n",
       "      <th>TCGA-50-5946-02A-11R-2090-07</th>\n",
       "      <th>TCGA-86-7713-01A-11R-2066-07</th>\n",
       "      <th>TCGA-86-8073-01A-11R-2241-07</th>\n",
       "      <th>TCGA-44-2662-01B-02R-A277-07</th>\n",
       "      <th>TCGA-MN-A4N4-01A-12R-A24X-07</th>\n",
       "      <th>TCGA-53-7626-01A-12R-2066-07</th>\n",
       "      <th>TCGA-62-A46O-01A-11R-A24H-07</th>\n",
       "      <th>TCGA-44-A47G-01A-21R-A24H-07</th>\n",
       "      <th>TCGA-55-6969-01A-11R-1949-07</th>\n",
       "      <th>TCGA-55-6969-11A-01R-1949-07</th>\n",
       "    </tr>\n",
       "  </thead>\n",
       "  <tbody>\n",
       "    <tr>\n",
       "      <th>0</th>\n",
       "      <td>TSPAN6</td>\n",
       "      <td>1536</td>\n",
       "      <td>2936</td>\n",
       "      <td>1475</td>\n",
       "      <td>3659</td>\n",
       "      <td>3269</td>\n",
       "      <td>1188</td>\n",
       "      <td>2178</td>\n",
       "      <td>4545</td>\n",
       "      <td>4558</td>\n",
       "      <td>...</td>\n",
       "      <td>5188</td>\n",
       "      <td>8522</td>\n",
       "      <td>3418</td>\n",
       "      <td>667</td>\n",
       "      <td>3365</td>\n",
       "      <td>3249</td>\n",
       "      <td>5948</td>\n",
       "      <td>2272</td>\n",
       "      <td>2233</td>\n",
       "      <td>513</td>\n",
       "    </tr>\n",
       "    <tr>\n",
       "      <th>1</th>\n",
       "      <td>TNMD</td>\n",
       "      <td>0</td>\n",
       "      <td>0</td>\n",
       "      <td>0</td>\n",
       "      <td>188</td>\n",
       "      <td>0</td>\n",
       "      <td>0</td>\n",
       "      <td>4</td>\n",
       "      <td>0</td>\n",
       "      <td>0</td>\n",
       "      <td>...</td>\n",
       "      <td>0</td>\n",
       "      <td>0</td>\n",
       "      <td>0</td>\n",
       "      <td>10</td>\n",
       "      <td>0</td>\n",
       "      <td>0</td>\n",
       "      <td>0</td>\n",
       "      <td>0</td>\n",
       "      <td>0</td>\n",
       "      <td>1</td>\n",
       "    </tr>\n",
       "    <tr>\n",
       "      <th>2</th>\n",
       "      <td>DPM1</td>\n",
       "      <td>765</td>\n",
       "      <td>1447</td>\n",
       "      <td>1275</td>\n",
       "      <td>981</td>\n",
       "      <td>1540</td>\n",
       "      <td>1564</td>\n",
       "      <td>1430</td>\n",
       "      <td>1557</td>\n",
       "      <td>2089</td>\n",
       "      <td>...</td>\n",
       "      <td>2778</td>\n",
       "      <td>2548</td>\n",
       "      <td>2937</td>\n",
       "      <td>554</td>\n",
       "      <td>2244</td>\n",
       "      <td>1969</td>\n",
       "      <td>1174</td>\n",
       "      <td>851</td>\n",
       "      <td>2803</td>\n",
       "      <td>754</td>\n",
       "    </tr>\n",
       "    <tr>\n",
       "      <th>3</th>\n",
       "      <td>SCYL3</td>\n",
       "      <td>510</td>\n",
       "      <td>827</td>\n",
       "      <td>373</td>\n",
       "      <td>456</td>\n",
       "      <td>1171</td>\n",
       "      <td>269</td>\n",
       "      <td>1139</td>\n",
       "      <td>1185</td>\n",
       "      <td>1025</td>\n",
       "      <td>...</td>\n",
       "      <td>1031</td>\n",
       "      <td>2384</td>\n",
       "      <td>1008</td>\n",
       "      <td>716</td>\n",
       "      <td>777</td>\n",
       "      <td>1345</td>\n",
       "      <td>628</td>\n",
       "      <td>565</td>\n",
       "      <td>940</td>\n",
       "      <td>350</td>\n",
       "    </tr>\n",
       "    <tr>\n",
       "      <th>4</th>\n",
       "      <td>C1orf112</td>\n",
       "      <td>172</td>\n",
       "      <td>241</td>\n",
       "      <td>172</td>\n",
       "      <td>158</td>\n",
       "      <td>318</td>\n",
       "      <td>219</td>\n",
       "      <td>434</td>\n",
       "      <td>322</td>\n",
       "      <td>315</td>\n",
       "      <td>...</td>\n",
       "      <td>969</td>\n",
       "      <td>1790</td>\n",
       "      <td>592</td>\n",
       "      <td>619</td>\n",
       "      <td>451</td>\n",
       "      <td>427</td>\n",
       "      <td>572</td>\n",
       "      <td>199</td>\n",
       "      <td>647</td>\n",
       "      <td>73</td>\n",
       "    </tr>\n",
       "  </tbody>\n",
       "</table>\n",
       "<p>5 rows × 601 columns</p>\n",
       "</div>"
      ]
     },
     "execution_count": 4,
     "metadata": {},
     "output_type": "execute_result"
    }
   ],
   "execution_count": 4
  },
  {
   "cell_type": "code",
   "source": [
    "meta = pandas.read_csv('./dataset/meta.csv')\n",
    "meta.head()"
   ],
   "metadata": {
    "collapsed": false,
    "ExecuteTime": {
     "end_time": "2024-05-09T21:53:36.458693Z",
     "start_time": "2024-05-09T21:53:36.446021Z"
    }
   },
   "id": "4ad82efb9e7334a7",
   "outputs": [
    {
     "data": {
      "text/plain": [
       "                        barcode  gender           expr\n",
       "0  TCGA-38-7271-01A-11R-2039-07  female            NaN\n",
       "1  TCGA-55-7914-01A-11R-2170-07  female            TRU\n",
       "2  TCGA-95-7043-01A-11R-1949-07  female  prox.-prolif.\n",
       "3  TCGA-73-4658-01A-01R-1755-07  female   prox.-inflam\n",
       "4  TCGA-86-8076-01A-31R-2241-07    male            NaN"
      ],
      "text/html": [
       "<div>\n",
       "<style scoped>\n",
       "    .dataframe tbody tr th:only-of-type {\n",
       "        vertical-align: middle;\n",
       "    }\n",
       "\n",
       "    .dataframe tbody tr th {\n",
       "        vertical-align: top;\n",
       "    }\n",
       "\n",
       "    .dataframe thead th {\n",
       "        text-align: right;\n",
       "    }\n",
       "</style>\n",
       "<table border=\"1\" class=\"dataframe\">\n",
       "  <thead>\n",
       "    <tr style=\"text-align: right;\">\n",
       "      <th></th>\n",
       "      <th>barcode</th>\n",
       "      <th>gender</th>\n",
       "      <th>expr</th>\n",
       "    </tr>\n",
       "  </thead>\n",
       "  <tbody>\n",
       "    <tr>\n",
       "      <th>0</th>\n",
       "      <td>TCGA-38-7271-01A-11R-2039-07</td>\n",
       "      <td>female</td>\n",
       "      <td>NaN</td>\n",
       "    </tr>\n",
       "    <tr>\n",
       "      <th>1</th>\n",
       "      <td>TCGA-55-7914-01A-11R-2170-07</td>\n",
       "      <td>female</td>\n",
       "      <td>TRU</td>\n",
       "    </tr>\n",
       "    <tr>\n",
       "      <th>2</th>\n",
       "      <td>TCGA-95-7043-01A-11R-1949-07</td>\n",
       "      <td>female</td>\n",
       "      <td>prox.-prolif.</td>\n",
       "    </tr>\n",
       "    <tr>\n",
       "      <th>3</th>\n",
       "      <td>TCGA-73-4658-01A-01R-1755-07</td>\n",
       "      <td>female</td>\n",
       "      <td>prox.-inflam</td>\n",
       "    </tr>\n",
       "    <tr>\n",
       "      <th>4</th>\n",
       "      <td>TCGA-86-8076-01A-31R-2241-07</td>\n",
       "      <td>male</td>\n",
       "      <td>NaN</td>\n",
       "    </tr>\n",
       "  </tbody>\n",
       "</table>\n",
       "</div>"
      ]
     },
     "execution_count": 5,
     "metadata": {},
     "output_type": "execute_result"
    }
   ],
   "execution_count": 5
  },
  {
   "metadata": {
    "ExecuteTime": {
     "end_time": "2024-05-09T19:38:56.597493Z",
     "start_time": "2024-05-09T19:38:56.593526Z"
    }
   },
   "cell_type": "code",
   "source": "meta.isna().any()",
   "id": "f0e7a4c0d0d98f92",
   "outputs": [
    {
     "data": {
      "text/plain": [
       "barcode    False\n",
       "gender     False\n",
       "expr        True\n",
       "dtype: bool"
      ]
     },
     "execution_count": 185,
     "metadata": {},
     "output_type": "execute_result"
    }
   ],
   "execution_count": 185
  },
  {
   "cell_type": "code",
   "source": [
    "# Remover NAs do expr. subtype\n",
    "meta_clean = meta.dropna(how='any')\n",
    "\n",
    "if len(meta_clean) == 248:\n",
    "    print(f'data set de subtipo de expressão contém 248 valores como esperado, com tamanho {len(meta_clean)}')"
   ],
   "metadata": {
    "collapsed": false,
    "ExecuteTime": {
     "end_time": "2024-05-09T21:53:38.677400Z",
     "start_time": "2024-05-09T21:53:38.673881Z"
    }
   },
   "id": "4f388dcbebf73074",
   "outputs": [
    {
     "name": "stdout",
     "output_type": "stream",
     "text": [
      "data set de subtipo de expressão contém 248 valores como esperado, com tamanho 248\n"
     ]
    }
   ],
   "execution_count": 6
  },
  {
   "metadata": {
    "ExecuteTime": {
     "end_time": "2024-05-09T21:53:40.264911Z",
     "start_time": "2024-05-09T21:53:40.231705Z"
    }
   },
   "cell_type": "code",
   "source": [
    "# Filtrar seqdata com base no filtro\n",
    "seqdata_clean = seqdata[meta_clean['barcode']] # Não é preciso validar pois as colunas já estão pelo nome\n",
    "\n",
    "if seqdata_clean.shape[1] == 248:\n",
    "    print(f'data set de dados de expressão corretamente filtrado, com tamanho {seqdata_clean.shape[1]}')"
   ],
   "id": "36b507db3181523c",
   "outputs": [
    {
     "name": "stdout",
     "output_type": "stream",
     "text": [
      "data set de dados de expressão corretamente filtrado, com tamanho 248\n"
     ]
    }
   ],
   "execution_count": 7
  },
  {
   "metadata": {
    "ExecuteTime": {
     "end_time": "2024-05-09T21:53:41.775556Z",
     "start_time": "2024-05-09T21:53:41.761336Z"
    }
   },
   "cell_type": "code",
   "source": [
    "smoke_status = pandas.read_csv('./dataset/fumo.csv')\n",
    "\n",
    "smoke_status = smoke_status.rename(columns={\n",
    "    'data.paper_Smoking.Status' : 'Smoke Habits',\n",
    "    'data.years_smoked' : 'Years Smoked'})\n",
    "\n",
    "smoke_status.drop(columns=['Unnamed: 0'], inplace=True)\n",
    "smoke_status['barcode'] = meta['barcode']\n",
    "\n",
    "# Filtramos por Smoke Habits\n",
    "smoke_status.isna().any()\n",
    "smoke_status_clean = smoke_status[(smoke_status['Smoke Habits'].notna()) & (smoke_status['Smoke Habits'] != '[Not Available]')]\n",
    "smoke_status_clean = smoke_status_clean[['barcode', 'Smoke Habits', 'Years Smoked']]\n",
    "smoke_status_clean.head()"
   ],
   "id": "981d92746f68fee1",
   "outputs": [
    {
     "data": {
      "text/plain": [
       "                        barcode                                 Smoke Habits  \\\n",
       "1  TCGA-55-7914-01A-11R-2170-07                               Current smoker   \n",
       "2  TCGA-95-7043-01A-11R-1949-07  Current reformed smoker for < or = 15 years   \n",
       "3  TCGA-73-4658-01A-01R-1755-07       Current reformed smoker for > 15 years   \n",
       "5  TCGA-55-7726-01A-11R-2170-07       Current reformed smoker for > 15 years   \n",
       "6  TCGA-44-6147-01A-11R-A278-07       Current reformed smoker for > 15 years   \n",
       "\n",
       "   Years Smoked  \n",
       "1           NaN  \n",
       "2          39.0  \n",
       "3           NaN  \n",
       "5          24.0  \n",
       "6           4.0  "
      ],
      "text/html": [
       "<div>\n",
       "<style scoped>\n",
       "    .dataframe tbody tr th:only-of-type {\n",
       "        vertical-align: middle;\n",
       "    }\n",
       "\n",
       "    .dataframe tbody tr th {\n",
       "        vertical-align: top;\n",
       "    }\n",
       "\n",
       "    .dataframe thead th {\n",
       "        text-align: right;\n",
       "    }\n",
       "</style>\n",
       "<table border=\"1\" class=\"dataframe\">\n",
       "  <thead>\n",
       "    <tr style=\"text-align: right;\">\n",
       "      <th></th>\n",
       "      <th>barcode</th>\n",
       "      <th>Smoke Habits</th>\n",
       "      <th>Years Smoked</th>\n",
       "    </tr>\n",
       "  </thead>\n",
       "  <tbody>\n",
       "    <tr>\n",
       "      <th>1</th>\n",
       "      <td>TCGA-55-7914-01A-11R-2170-07</td>\n",
       "      <td>Current smoker</td>\n",
       "      <td>NaN</td>\n",
       "    </tr>\n",
       "    <tr>\n",
       "      <th>2</th>\n",
       "      <td>TCGA-95-7043-01A-11R-1949-07</td>\n",
       "      <td>Current reformed smoker for &lt; or = 15 years</td>\n",
       "      <td>39.0</td>\n",
       "    </tr>\n",
       "    <tr>\n",
       "      <th>3</th>\n",
       "      <td>TCGA-73-4658-01A-01R-1755-07</td>\n",
       "      <td>Current reformed smoker for &gt; 15 years</td>\n",
       "      <td>NaN</td>\n",
       "    </tr>\n",
       "    <tr>\n",
       "      <th>5</th>\n",
       "      <td>TCGA-55-7726-01A-11R-2170-07</td>\n",
       "      <td>Current reformed smoker for &gt; 15 years</td>\n",
       "      <td>24.0</td>\n",
       "    </tr>\n",
       "    <tr>\n",
       "      <th>6</th>\n",
       "      <td>TCGA-44-6147-01A-11R-A278-07</td>\n",
       "      <td>Current reformed smoker for &gt; 15 years</td>\n",
       "      <td>4.0</td>\n",
       "    </tr>\n",
       "  </tbody>\n",
       "</table>\n",
       "</div>"
      ]
     },
     "execution_count": 8,
     "metadata": {},
     "output_type": "execute_result"
    }
   ],
   "execution_count": 8
  },
  {
   "metadata": {
    "ExecuteTime": {
     "end_time": "2024-05-09T21:53:47.125633Z",
     "start_time": "2024-05-09T21:53:47.111230Z"
    }
   },
   "cell_type": "code",
   "source": [
    "vital = pandas.read_csv('./dataset/vital.csv')\n",
    "\n",
    "vital.rename(columns={'data.barcode' : 'barcode', 'data.vital_status' : 'Vital Status'}, inplace=True)\n",
    "\n",
    "vital_vs_smoke = pandas.merge(\n",
    "    smoke_status_clean,\n",
    "    vital,\n",
    "    on = 'barcode',\n",
    "    how = 'inner'\n",
    ")\n",
    "\n",
    "vital_vs_smoke = vital_vs_smoke[['barcode', 'Smoke Habits', 'Years Smoked', 'Vital Status']]\n",
    "vital_vs_smoke.head()"
   ],
   "id": "1f4bdd4ffbffd1b3",
   "outputs": [
    {
     "data": {
      "text/plain": [
       "                        barcode                                 Smoke Habits  \\\n",
       "0  TCGA-55-7914-01A-11R-2170-07                               Current smoker   \n",
       "1  TCGA-95-7043-01A-11R-1949-07  Current reformed smoker for < or = 15 years   \n",
       "2  TCGA-73-4658-01A-01R-1755-07       Current reformed smoker for > 15 years   \n",
       "3  TCGA-55-7726-01A-11R-2170-07       Current reformed smoker for > 15 years   \n",
       "4  TCGA-44-6147-01A-11R-A278-07       Current reformed smoker for > 15 years   \n",
       "\n",
       "   Years Smoked Vital Status  \n",
       "0           NaN         Dead  \n",
       "1          39.0         Dead  \n",
       "2           NaN         Dead  \n",
       "3          24.0        Alive  \n",
       "4           4.0        Alive  "
      ],
      "text/html": [
       "<div>\n",
       "<style scoped>\n",
       "    .dataframe tbody tr th:only-of-type {\n",
       "        vertical-align: middle;\n",
       "    }\n",
       "\n",
       "    .dataframe tbody tr th {\n",
       "        vertical-align: top;\n",
       "    }\n",
       "\n",
       "    .dataframe thead th {\n",
       "        text-align: right;\n",
       "    }\n",
       "</style>\n",
       "<table border=\"1\" class=\"dataframe\">\n",
       "  <thead>\n",
       "    <tr style=\"text-align: right;\">\n",
       "      <th></th>\n",
       "      <th>barcode</th>\n",
       "      <th>Smoke Habits</th>\n",
       "      <th>Years Smoked</th>\n",
       "      <th>Vital Status</th>\n",
       "    </tr>\n",
       "  </thead>\n",
       "  <tbody>\n",
       "    <tr>\n",
       "      <th>0</th>\n",
       "      <td>TCGA-55-7914-01A-11R-2170-07</td>\n",
       "      <td>Current smoker</td>\n",
       "      <td>NaN</td>\n",
       "      <td>Dead</td>\n",
       "    </tr>\n",
       "    <tr>\n",
       "      <th>1</th>\n",
       "      <td>TCGA-95-7043-01A-11R-1949-07</td>\n",
       "      <td>Current reformed smoker for &lt; or = 15 years</td>\n",
       "      <td>39.0</td>\n",
       "      <td>Dead</td>\n",
       "    </tr>\n",
       "    <tr>\n",
       "      <th>2</th>\n",
       "      <td>TCGA-73-4658-01A-01R-1755-07</td>\n",
       "      <td>Current reformed smoker for &gt; 15 years</td>\n",
       "      <td>NaN</td>\n",
       "      <td>Dead</td>\n",
       "    </tr>\n",
       "    <tr>\n",
       "      <th>3</th>\n",
       "      <td>TCGA-55-7726-01A-11R-2170-07</td>\n",
       "      <td>Current reformed smoker for &gt; 15 years</td>\n",
       "      <td>24.0</td>\n",
       "      <td>Alive</td>\n",
       "    </tr>\n",
       "    <tr>\n",
       "      <th>4</th>\n",
       "      <td>TCGA-44-6147-01A-11R-A278-07</td>\n",
       "      <td>Current reformed smoker for &gt; 15 years</td>\n",
       "      <td>4.0</td>\n",
       "      <td>Alive</td>\n",
       "    </tr>\n",
       "  </tbody>\n",
       "</table>\n",
       "</div>"
      ]
     },
     "execution_count": 9,
     "metadata": {},
     "output_type": "execute_result"
    }
   ],
   "execution_count": 9
  },
  {
   "metadata": {
    "ExecuteTime": {
     "end_time": "2024-05-09T20:00:41.590727Z",
     "start_time": "2024-05-09T20:00:41.582723Z"
    }
   },
   "cell_type": "code",
   "source": [
    "stage = pandas.read_csv('./dataset/stage.csv')\n",
    "stage.drop(columns=['Unnamed: 0'], inplace=True)\n",
    "\n",
    "stage = stage.rename(columns={'data$paper_Tumor.stage' : 'Tumor Stage'})\n",
    "\n",
    "stage['barcode'] = meta['barcode']\n",
    "\n",
    "print(f'encontrados {stage.iloc[:, 0].isna().sum()} valores omissos',\n",
    "           'foi criada uma versão filtrada')\n",
    "\n",
    "stage_clean = stage.dropna(how='any')\n",
    "stage_clean[stage_clean['barcode'].isin(meta['barcode'])]\n",
    "stage_clean\n",
    "\n",
    "\n"
   ],
   "id": "72f0c4cd1352b539",
   "outputs": [
    {
     "name": "stdout",
     "output_type": "stream",
     "text": [
      "encontrados 352 valores omissos foi criada uma versão filtrada\n"
     ]
    },
    {
     "data": {
      "text/plain": [
       "    Tumor Stage                       barcode\n",
       "1     Stage IIA  TCGA-55-7914-01A-11R-2170-07\n",
       "2      Stage IA  TCGA-95-7043-01A-11R-1949-07\n",
       "3      Stage IB  TCGA-73-4658-01A-01R-1755-07\n",
       "5      Stage IA  TCGA-55-7726-01A-11R-2170-07\n",
       "6      Stage IA  TCGA-44-6147-01A-11R-A278-07\n",
       "..          ...                           ...\n",
       "588   Stage IIA  TCGA-50-5055-01A-01R-1628-07\n",
       "589   Stage IIB  TCGA-38-4628-01A-01R-1206-07\n",
       "591    Stage IB  TCGA-86-7713-01A-11R-2066-07\n",
       "593    Stage IB  TCGA-44-2662-01B-02R-A277-07\n",
       "595   Stage IIA  TCGA-53-7626-01A-12R-2066-07\n",
       "\n",
       "[248 rows x 2 columns]"
      ],
      "text/html": [
       "<div>\n",
       "<style scoped>\n",
       "    .dataframe tbody tr th:only-of-type {\n",
       "        vertical-align: middle;\n",
       "    }\n",
       "\n",
       "    .dataframe tbody tr th {\n",
       "        vertical-align: top;\n",
       "    }\n",
       "\n",
       "    .dataframe thead th {\n",
       "        text-align: right;\n",
       "    }\n",
       "</style>\n",
       "<table border=\"1\" class=\"dataframe\">\n",
       "  <thead>\n",
       "    <tr style=\"text-align: right;\">\n",
       "      <th></th>\n",
       "      <th>Tumor Stage</th>\n",
       "      <th>barcode</th>\n",
       "    </tr>\n",
       "  </thead>\n",
       "  <tbody>\n",
       "    <tr>\n",
       "      <th>1</th>\n",
       "      <td>Stage IIA</td>\n",
       "      <td>TCGA-55-7914-01A-11R-2170-07</td>\n",
       "    </tr>\n",
       "    <tr>\n",
       "      <th>2</th>\n",
       "      <td>Stage IA</td>\n",
       "      <td>TCGA-95-7043-01A-11R-1949-07</td>\n",
       "    </tr>\n",
       "    <tr>\n",
       "      <th>3</th>\n",
       "      <td>Stage IB</td>\n",
       "      <td>TCGA-73-4658-01A-01R-1755-07</td>\n",
       "    </tr>\n",
       "    <tr>\n",
       "      <th>5</th>\n",
       "      <td>Stage IA</td>\n",
       "      <td>TCGA-55-7726-01A-11R-2170-07</td>\n",
       "    </tr>\n",
       "    <tr>\n",
       "      <th>6</th>\n",
       "      <td>Stage IA</td>\n",
       "      <td>TCGA-44-6147-01A-11R-A278-07</td>\n",
       "    </tr>\n",
       "    <tr>\n",
       "      <th>...</th>\n",
       "      <td>...</td>\n",
       "      <td>...</td>\n",
       "    </tr>\n",
       "    <tr>\n",
       "      <th>588</th>\n",
       "      <td>Stage IIA</td>\n",
       "      <td>TCGA-50-5055-01A-01R-1628-07</td>\n",
       "    </tr>\n",
       "    <tr>\n",
       "      <th>589</th>\n",
       "      <td>Stage IIB</td>\n",
       "      <td>TCGA-38-4628-01A-01R-1206-07</td>\n",
       "    </tr>\n",
       "    <tr>\n",
       "      <th>591</th>\n",
       "      <td>Stage IB</td>\n",
       "      <td>TCGA-86-7713-01A-11R-2066-07</td>\n",
       "    </tr>\n",
       "    <tr>\n",
       "      <th>593</th>\n",
       "      <td>Stage IB</td>\n",
       "      <td>TCGA-44-2662-01B-02R-A277-07</td>\n",
       "    </tr>\n",
       "    <tr>\n",
       "      <th>595</th>\n",
       "      <td>Stage IIA</td>\n",
       "      <td>TCGA-53-7626-01A-12R-2066-07</td>\n",
       "    </tr>\n",
       "  </tbody>\n",
       "</table>\n",
       "<p>248 rows × 2 columns</p>\n",
       "</div>"
      ]
     },
     "execution_count": 246,
     "metadata": {},
     "output_type": "execute_result"
    }
   ],
   "execution_count": 246
  },
  {
   "metadata": {
    "ExecuteTime": {
     "end_time": "2024-05-09T22:00:21.614443Z",
     "start_time": "2024-05-09T22:00:21.534542Z"
    }
   },
   "cell_type": "code",
   "source": [
    "\"\"\"\n",
    "Gráficos a correlacionar:\n",
    "\n",
    "- smoke status com vital status?\n",
    "- vital status vs stage?\n",
    "\"\"\"\n",
    "import seaborn\n",
    "\n",
    "# Equivalente a table(dados)\n",
    "vital_status = vital['Vital Status'].value_counts()\n",
    "#vital_status\n",
    "\n",
    "seaborn.barplot(x = vital_status.index, y = vital_status.values)"
   ],
   "id": "39fb873f8ace971e",
   "outputs": [
    {
     "data": {
      "text/plain": [
       "<Axes: xlabel='Vital Status'>"
      ]
     },
     "execution_count": 23,
     "metadata": {},
     "output_type": "execute_result"
    },
    {
     "data": {
      "text/plain": [
       "<Figure size 640x480 with 1 Axes>"
      ],
      "image/png": "[encoded data removed]"
     },
     "metadata": {},
     "output_type": "display_data"
    }
   ],
   "execution_count": 23
  },
  {
   "metadata": {
    "ExecuteTime": {
     "end_time": "2024-05-09T22:05:04.843695Z",
     "start_time": "2024-05-09T22:05:04.762898Z"
    }
   },
   "cell_type": "code",
   "source": [
    "smoke_habit = smoke_status_clean['Smoke Habits'].value_counts()\n",
    "smoke_habit = smoke_habit.rename({\n",
    "    'Current reformed smoker for > 15 years': 'EX > 15 y',\n",
    "    'Current reformed smoker for < or = 15 years': 'EX <= 15 y',\n",
    "    'Current smoker' : 'Smokes',\n",
    "    'Lifelong Non-smoker' : 'Never smoked',\n",
    "})\n",
    "\n",
    "seaborn.barplot(x = smoke_habit.index, y = smoke_habit.values)"
   ],
   "id": "6dc3f5257859825c",
   "outputs": [
    {
     "data": {
      "text/plain": [
       "<Axes: xlabel='Smoke Habits'>"
      ]
     },
     "execution_count": 33,
     "metadata": {},
     "output_type": "execute_result"
    },
    {
     "data": {
      "text/plain": [
       "<Figure size 640x480 with 1 Axes>"
      ],
      "image/png": "[encoded data removed]"
     },
     "metadata": {},
     "output_type": "display_data"
    }
   ],
   "execution_count": 33
  }
 ],
 "metadata": {
  "kernelspec": {
   "display_name": "Python 3",
   "language": "python",
   "name": "python3"
  },
  "language_info": {
   "codemirror_mode": {
    "name": "ipython",
    "version": 2
   },
   "file_extension": ".py",
   "mimetype": "text/x-python",
   "name": "python",
   "nbconvert_exporter": "python",
   "pygments_lexer": "ipython2",
   "version": "2.7.6"
  }
 },
 "nbformat": 4,
 "nbformat_minor": 5
}
