{
 "cells": [
  {
   "cell_type": "code",
   "source": [
    "#!pip install --upgrade pip --quiet\n",
    "#!pip install pandas --quiet\n",
    "#!pip install seaborn --quiet\n",
    "#!pip install matplotlib --quiet\n",
    "#!pip install scipy --quiet\n",
    "#!pip install numpy --quiet\n",
    "#!pip install scikit-learn --quiet\n",
    "#!pip install pydeseq2 --quiet\n",
    "#!pip install pickle --quiet"
   ],
   "metadata": {
    "collapsed": false,
    "ExecuteTime": {
     "end_time": "2024-05-11T15:03:44.241907Z",
     "start_time": "2024-05-11T15:03:44.239931Z"
    }
   },
   "id": "ac1137a3a2666779",
   "outputs": [],
   "execution_count": 92
  },
  {
   "cell_type": "code",
   "id": "initial_id",
   "metadata": {
    "collapsed": true,
    "ExecuteTime": {
     "end_time": "2024-05-11T15:03:44.253966Z",
     "start_time": "2024-05-11T15:03:44.251917Z"
    }
   },
   "source": [
    "import pandas"
   ],
   "outputs": [],
   "execution_count": 93
  },
  {
   "metadata": {},
   "cell_type": "markdown",
   "source": [
    "Dados obtidos por conversão das variáveis em R.\n",
    "Usei o packages TCGA BioLinks para transferir e depois exportei.\n",
    "\n",
    "A lógica\n",
    "```r\n",
    "write_csv(seqdata, 'seqdata.csv') # Para excluir os rownames e manter os nomes do gene\n",
    "write_csv(meta, 'meta.csv', rownames = FALSE) # Para manter o barcode\n",
    "```"
   ],
   "id": "eba970e067374e1e"
  },
  {
   "cell_type": "code",
   "source": [
    "seqdata = pandas.read_csv('./dataset/seqdata.csv')\n",
    "seqdata = seqdata.rename(columns={'Unnamed: 0':'Genes'})\n",
    "seqdata = seqdata.set_index('Genes')\n",
    "seqdata.head()"
   ],
   "metadata": {
    "collapsed": false,
    "ExecuteTime": {
     "end_time": "2024-05-11T15:03:45.810208Z",
     "start_time": "2024-05-11T15:03:44.253966Z"
    }
   },
   "id": "b3d0a5af1c502fed",
   "outputs": [
    {
     "data": {
      "text/plain": [
       "          TCGA-38-7271-01A-11R-2039-07  TCGA-55-7914-01A-11R-2170-07  \\\n",
       "Genes                                                                  \n",
       "TSPAN6                            1536                          2936   \n",
       "TNMD                                 0                             0   \n",
       "DPM1                               765                          1447   \n",
       "SCYL3                              510                           827   \n",
       "C1orf112                           172                           241   \n",
       "\n",
       "          TCGA-95-7043-01A-11R-1949-07  TCGA-73-4658-01A-01R-1755-07  \\\n",
       "Genes                                                                  \n",
       "TSPAN6                            1475                          3659   \n",
       "TNMD                                 0                           188   \n",
       "DPM1                              1275                           981   \n",
       "SCYL3                              373                           456   \n",
       "C1orf112                           172                           158   \n",
       "\n",
       "          TCGA-86-8076-01A-31R-2241-07  TCGA-55-7726-01A-11R-2170-07  \\\n",
       "Genes                                                                  \n",
       "TSPAN6                            3269                          1188   \n",
       "TNMD                                 0                             0   \n",
       "DPM1                              1540                          1564   \n",
       "SCYL3                             1171                           269   \n",
       "C1orf112                           318                           219   \n",
       "\n",
       "          TCGA-44-6147-01A-11R-A278-07  TCGA-50-5932-01A-11R-1755-07  \\\n",
       "Genes                                                                  \n",
       "TSPAN6                            2178                          4545   \n",
       "TNMD                                 4                             0   \n",
       "DPM1                              1430                          1557   \n",
       "SCYL3                             1139                          1185   \n",
       "C1orf112                           434                           322   \n",
       "\n",
       "          TCGA-44-2661-01A-01R-1107-07  TCGA-86-7954-01A-11R-2187-07  ...  \\\n",
       "Genes                                                                 ...   \n",
       "TSPAN6                            4558                          9079  ...   \n",
       "TNMD                                 0                             3  ...   \n",
       "DPM1                              2089                          3519  ...   \n",
       "SCYL3                             1025                          1630  ...   \n",
       "C1orf112                           315                          1097  ...   \n",
       "\n",
       "          TCGA-50-5946-02A-11R-2090-07  TCGA-86-7713-01A-11R-2066-07  \\\n",
       "Genes                                                                  \n",
       "TSPAN6                            5188                          8522   \n",
       "TNMD                                 0                             0   \n",
       "DPM1                              2778                          2548   \n",
       "SCYL3                             1031                          2384   \n",
       "C1orf112                           969                          1790   \n",
       "\n",
       "          TCGA-86-8073-01A-11R-2241-07  TCGA-44-2662-01B-02R-A277-07  \\\n",
       "Genes                                                                  \n",
       "TSPAN6                            3418                           667   \n",
       "TNMD                                 0                            10   \n",
       "DPM1                              2937                           554   \n",
       "SCYL3                             1008                           716   \n",
       "C1orf112                           592                           619   \n",
       "\n",
       "          TCGA-MN-A4N4-01A-12R-A24X-07  TCGA-53-7626-01A-12R-2066-07  \\\n",
       "Genes                                                                  \n",
       "TSPAN6                            3365                          3249   \n",
       "TNMD                                 0                             0   \n",
       "DPM1                              2244                          1969   \n",
       "SCYL3                              777                          1345   \n",
       "C1orf112                           451                           427   \n",
       "\n",
       "          TCGA-62-A46O-01A-11R-A24H-07  TCGA-44-A47G-01A-21R-A24H-07  \\\n",
       "Genes                                                                  \n",
       "TSPAN6                            5948                          2272   \n",
       "TNMD                                 0                             0   \n",
       "DPM1                              1174                           851   \n",
       "SCYL3                              628                           565   \n",
       "C1orf112                           572                           199   \n",
       "\n",
       "          TCGA-55-6969-01A-11R-1949-07  TCGA-55-6969-11A-01R-1949-07  \n",
       "Genes                                                                 \n",
       "TSPAN6                            2233                           513  \n",
       "TNMD                                 0                             1  \n",
       "DPM1                              2803                           754  \n",
       "SCYL3                              940                           350  \n",
       "C1orf112                           647                            73  \n",
       "\n",
       "[5 rows x 600 columns]"
      ],
      "text/html": [
       "<div>\n",
       "<style scoped>\n",
       "    .dataframe tbody tr th:only-of-type {\n",
       "        vertical-align: middle;\n",
       "    }\n",
       "\n",
       "    .dataframe tbody tr th {\n",
       "        vertical-align: top;\n",
       "    }\n",
       "\n",
       "    .dataframe thead th {\n",
       "        text-align: right;\n",
       "    }\n",
       "</style>\n",
       "<table border=\"1\" class=\"dataframe\">\n",
       "  <thead>\n",
       "    <tr style=\"text-align: right;\">\n",
       "      <th></th>\n",
       "      <th>TCGA-38-7271-01A-11R-2039-07</th>\n",
       "      <th>TCGA-55-7914-01A-11R-2170-07</th>\n",
       "      <th>TCGA-95-7043-01A-11R-1949-07</th>\n",
       "      <th>TCGA-73-4658-01A-01R-1755-07</th>\n",
       "      <th>TCGA-86-8076-01A-31R-2241-07</th>\n",
       "      <th>TCGA-55-7726-01A-11R-2170-07</th>\n",
       "      <th>TCGA-44-6147-01A-11R-A278-07</th>\n",
       "      <th>TCGA-50-5932-01A-11R-1755-07</th>\n",
       "      <th>TCGA-44-2661-01A-01R-1107-07</th>\n",
       "      <th>TCGA-86-7954-01A-11R-2187-07</th>\n",
       "      <th>...</th>\n",
       "      <th>TCGA-50-5946-02A-11R-2090-07</th>\n",
       "      <th>TCGA-86-7713-01A-11R-2066-07</th>\n",
       "      <th>TCGA-86-8073-01A-11R-2241-07</th>\n",
       "      <th>TCGA-44-2662-01B-02R-A277-07</th>\n",
       "      <th>TCGA-MN-A4N4-01A-12R-A24X-07</th>\n",
       "      <th>TCGA-53-7626-01A-12R-2066-07</th>\n",
       "      <th>TCGA-62-A46O-01A-11R-A24H-07</th>\n",
       "      <th>TCGA-44-A47G-01A-21R-A24H-07</th>\n",
       "      <th>TCGA-55-6969-01A-11R-1949-07</th>\n",
       "      <th>TCGA-55-6969-11A-01R-1949-07</th>\n",
       "    </tr>\n",
       "    <tr>\n",
       "      <th>Genes</th>\n",
       "      <th></th>\n",
       "      <th></th>\n",
       "      <th></th>\n",
       "      <th></th>\n",
       "      <th></th>\n",
       "      <th></th>\n",
       "      <th></th>\n",
       "      <th></th>\n",
       "      <th></th>\n",
       "      <th></th>\n",
       "      <th></th>\n",
       "      <th></th>\n",
       "      <th></th>\n",
       "      <th></th>\n",
       "      <th></th>\n",
       "      <th></th>\n",
       "      <th></th>\n",
       "      <th></th>\n",
       "      <th></th>\n",
       "      <th></th>\n",
       "      <th></th>\n",
       "    </tr>\n",
       "  </thead>\n",
       "  <tbody>\n",
       "    <tr>\n",
       "      <th>TSPAN6</th>\n",
       "      <td>1536</td>\n",
       "      <td>2936</td>\n",
       "      <td>1475</td>\n",
       "      <td>3659</td>\n",
       "      <td>3269</td>\n",
       "      <td>1188</td>\n",
       "      <td>2178</td>\n",
       "      <td>4545</td>\n",
       "      <td>4558</td>\n",
       "      <td>9079</td>\n",
       "      <td>...</td>\n",
       "      <td>5188</td>\n",
       "      <td>8522</td>\n",
       "      <td>3418</td>\n",
       "      <td>667</td>\n",
       "      <td>3365</td>\n",
       "      <td>3249</td>\n",
       "      <td>5948</td>\n",
       "      <td>2272</td>\n",
       "      <td>2233</td>\n",
       "      <td>513</td>\n",
       "    </tr>\n",
       "    <tr>\n",
       "      <th>TNMD</th>\n",
       "      <td>0</td>\n",
       "      <td>0</td>\n",
       "      <td>0</td>\n",
       "      <td>188</td>\n",
       "      <td>0</td>\n",
       "      <td>0</td>\n",
       "      <td>4</td>\n",
       "      <td>0</td>\n",
       "      <td>0</td>\n",
       "      <td>3</td>\n",
       "      <td>...</td>\n",
       "      <td>0</td>\n",
       "      <td>0</td>\n",
       "      <td>0</td>\n",
       "      <td>10</td>\n",
       "      <td>0</td>\n",
       "      <td>0</td>\n",
       "      <td>0</td>\n",
       "      <td>0</td>\n",
       "      <td>0</td>\n",
       "      <td>1</td>\n",
       "    </tr>\n",
       "    <tr>\n",
       "      <th>DPM1</th>\n",
       "      <td>765</td>\n",
       "      <td>1447</td>\n",
       "      <td>1275</td>\n",
       "      <td>981</td>\n",
       "      <td>1540</td>\n",
       "      <td>1564</td>\n",
       "      <td>1430</td>\n",
       "      <td>1557</td>\n",
       "      <td>2089</td>\n",
       "      <td>3519</td>\n",
       "      <td>...</td>\n",
       "      <td>2778</td>\n",
       "      <td>2548</td>\n",
       "      <td>2937</td>\n",
       "      <td>554</td>\n",
       "      <td>2244</td>\n",
       "      <td>1969</td>\n",
       "      <td>1174</td>\n",
       "      <td>851</td>\n",
       "      <td>2803</td>\n",
       "      <td>754</td>\n",
       "    </tr>\n",
       "    <tr>\n",
       "      <th>SCYL3</th>\n",
       "      <td>510</td>\n",
       "      <td>827</td>\n",
       "      <td>373</td>\n",
       "      <td>456</td>\n",
       "      <td>1171</td>\n",
       "      <td>269</td>\n",
       "      <td>1139</td>\n",
       "      <td>1185</td>\n",
       "      <td>1025</td>\n",
       "      <td>1630</td>\n",
       "      <td>...</td>\n",
       "      <td>1031</td>\n",
       "      <td>2384</td>\n",
       "      <td>1008</td>\n",
       "      <td>716</td>\n",
       "      <td>777</td>\n",
       "      <td>1345</td>\n",
       "      <td>628</td>\n",
       "      <td>565</td>\n",
       "      <td>940</td>\n",
       "      <td>350</td>\n",
       "    </tr>\n",
       "    <tr>\n",
       "      <th>C1orf112</th>\n",
       "      <td>172</td>\n",
       "      <td>241</td>\n",
       "      <td>172</td>\n",
       "      <td>158</td>\n",
       "      <td>318</td>\n",
       "      <td>219</td>\n",
       "      <td>434</td>\n",
       "      <td>322</td>\n",
       "      <td>315</td>\n",
       "      <td>1097</td>\n",
       "      <td>...</td>\n",
       "      <td>969</td>\n",
       "      <td>1790</td>\n",
       "      <td>592</td>\n",
       "      <td>619</td>\n",
       "      <td>451</td>\n",
       "      <td>427</td>\n",
       "      <td>572</td>\n",
       "      <td>199</td>\n",
       "      <td>647</td>\n",
       "      <td>73</td>\n",
       "    </tr>\n",
       "  </tbody>\n",
       "</table>\n",
       "<p>5 rows × 600 columns</p>\n",
       "</div>"
      ]
     },
     "execution_count": 94,
     "metadata": {},
     "output_type": "execute_result"
    }
   ],
   "execution_count": 94
  },
  {
   "cell_type": "code",
   "source": [
    "meta = pandas.read_csv('./dataset/meta.csv')\n",
    "meta = meta.set_index('barcode')\n",
    "meta.head()"
   ],
   "metadata": {
    "collapsed": false,
    "ExecuteTime": {
     "end_time": "2024-05-11T15:03:45.818320Z",
     "start_time": "2024-05-11T15:03:45.811210Z"
    }
   },
   "id": "4ad82efb9e7334a7",
   "outputs": [
    {
     "data": {
      "text/plain": [
       "                              gender           expr\n",
       "barcode                                            \n",
       "TCGA-38-7271-01A-11R-2039-07  female            NaN\n",
       "TCGA-55-7914-01A-11R-2170-07  female            TRU\n",
       "TCGA-95-7043-01A-11R-1949-07  female  prox.-prolif.\n",
       "TCGA-73-4658-01A-01R-1755-07  female   prox.-inflam\n",
       "TCGA-86-8076-01A-31R-2241-07    male            NaN"
      ],
      "text/html": [
       "<div>\n",
       "<style scoped>\n",
       "    .dataframe tbody tr th:only-of-type {\n",
       "        vertical-align: middle;\n",
       "    }\n",
       "\n",
       "    .dataframe tbody tr th {\n",
       "        vertical-align: top;\n",
       "    }\n",
       "\n",
       "    .dataframe thead th {\n",
       "        text-align: right;\n",
       "    }\n",
       "</style>\n",
       "<table border=\"1\" class=\"dataframe\">\n",
       "  <thead>\n",
       "    <tr style=\"text-align: right;\">\n",
       "      <th></th>\n",
       "      <th>gender</th>\n",
       "      <th>expr</th>\n",
       "    </tr>\n",
       "    <tr>\n",
       "      <th>barcode</th>\n",
       "      <th></th>\n",
       "      <th></th>\n",
       "    </tr>\n",
       "  </thead>\n",
       "  <tbody>\n",
       "    <tr>\n",
       "      <th>TCGA-38-7271-01A-11R-2039-07</th>\n",
       "      <td>female</td>\n",
       "      <td>NaN</td>\n",
       "    </tr>\n",
       "    <tr>\n",
       "      <th>TCGA-55-7914-01A-11R-2170-07</th>\n",
       "      <td>female</td>\n",
       "      <td>TRU</td>\n",
       "    </tr>\n",
       "    <tr>\n",
       "      <th>TCGA-95-7043-01A-11R-1949-07</th>\n",
       "      <td>female</td>\n",
       "      <td>prox.-prolif.</td>\n",
       "    </tr>\n",
       "    <tr>\n",
       "      <th>TCGA-73-4658-01A-01R-1755-07</th>\n",
       "      <td>female</td>\n",
       "      <td>prox.-inflam</td>\n",
       "    </tr>\n",
       "    <tr>\n",
       "      <th>TCGA-86-8076-01A-31R-2241-07</th>\n",
       "      <td>male</td>\n",
       "      <td>NaN</td>\n",
       "    </tr>\n",
       "  </tbody>\n",
       "</table>\n",
       "</div>"
      ]
     },
     "execution_count": 95,
     "metadata": {},
     "output_type": "execute_result"
    }
   ],
   "execution_count": 95
  },
  {
   "metadata": {
    "ExecuteTime": {
     "end_time": "2024-05-11T15:03:45.826886Z",
     "start_time": "2024-05-11T15:03:45.820334Z"
    }
   },
   "cell_type": "code",
   "source": [
    "meta.isna().any()"
   ],
   "id": "f0e7a4c0d0d98f92",
   "outputs": [
    {
     "data": {
      "text/plain": [
       "gender    False\n",
       "expr       True\n",
       "dtype: bool"
      ]
     },
     "execution_count": 96,
     "metadata": {},
     "output_type": "execute_result"
    }
   ],
   "execution_count": 96
  },
  {
   "cell_type": "code",
   "source": [
    "# Remover NAs do expr. subtype\n",
    "meta_clean = meta.dropna(how='any')\n",
    "\n",
    "if len(meta_clean) == 248:\n",
    "    print(f'data set de subtipo de expressão contém 248 valores como esperado, com tamanho {len(meta_clean)}')\n",
    "    \n",
    "meta_clean.head()"
   ],
   "metadata": {
    "collapsed": false,
    "ExecuteTime": {
     "end_time": "2024-05-11T15:03:45.837768Z",
     "start_time": "2024-05-11T15:03:45.827888Z"
    }
   },
   "id": "4f388dcbebf73074",
   "outputs": [
    {
     "name": "stdout",
     "output_type": "stream",
     "text": [
      "data set de subtipo de expressão contém 248 valores como esperado, com tamanho 248\n"
     ]
    },
    {
     "data": {
      "text/plain": [
       "                              gender           expr\n",
       "barcode                                            \n",
       "TCGA-55-7914-01A-11R-2170-07  female            TRU\n",
       "TCGA-95-7043-01A-11R-1949-07  female  prox.-prolif.\n",
       "TCGA-73-4658-01A-01R-1755-07  female   prox.-inflam\n",
       "TCGA-55-7726-01A-11R-2170-07  female   prox.-inflam\n",
       "TCGA-44-6147-01A-11R-A278-07  female            TRU"
      ],
      "text/html": [
       "<div>\n",
       "<style scoped>\n",
       "    .dataframe tbody tr th:only-of-type {\n",
       "        vertical-align: middle;\n",
       "    }\n",
       "\n",
       "    .dataframe tbody tr th {\n",
       "        vertical-align: top;\n",
       "    }\n",
       "\n",
       "    .dataframe thead th {\n",
       "        text-align: right;\n",
       "    }\n",
       "</style>\n",
       "<table border=\"1\" class=\"dataframe\">\n",
       "  <thead>\n",
       "    <tr style=\"text-align: right;\">\n",
       "      <th></th>\n",
       "      <th>gender</th>\n",
       "      <th>expr</th>\n",
       "    </tr>\n",
       "    <tr>\n",
       "      <th>barcode</th>\n",
       "      <th></th>\n",
       "      <th></th>\n",
       "    </tr>\n",
       "  </thead>\n",
       "  <tbody>\n",
       "    <tr>\n",
       "      <th>TCGA-55-7914-01A-11R-2170-07</th>\n",
       "      <td>female</td>\n",
       "      <td>TRU</td>\n",
       "    </tr>\n",
       "    <tr>\n",
       "      <th>TCGA-95-7043-01A-11R-1949-07</th>\n",
       "      <td>female</td>\n",
       "      <td>prox.-prolif.</td>\n",
       "    </tr>\n",
       "    <tr>\n",
       "      <th>TCGA-73-4658-01A-01R-1755-07</th>\n",
       "      <td>female</td>\n",
       "      <td>prox.-inflam</td>\n",
       "    </tr>\n",
       "    <tr>\n",
       "      <th>TCGA-55-7726-01A-11R-2170-07</th>\n",
       "      <td>female</td>\n",
       "      <td>prox.-inflam</td>\n",
       "    </tr>\n",
       "    <tr>\n",
       "      <th>TCGA-44-6147-01A-11R-A278-07</th>\n",
       "      <td>female</td>\n",
       "      <td>TRU</td>\n",
       "    </tr>\n",
       "  </tbody>\n",
       "</table>\n",
       "</div>"
      ]
     },
     "execution_count": 97,
     "metadata": {},
     "output_type": "execute_result"
    }
   ],
   "execution_count": 97
  },
  {
   "metadata": {
    "ExecuteTime": {
     "end_time": "2024-05-11T15:03:45.880031Z",
     "start_time": "2024-05-11T15:03:45.837768Z"
    }
   },
   "cell_type": "code",
   "source": [
    "# Filtrar seqdata com base no filtro\n",
    "seqdata_clean = seqdata[meta_clean.index] # Não é preciso validar pois as colunas já estão pelo nome\n",
    "\n",
    "if seqdata_clean.shape[1] == 248:\n",
    "    print(f'data set de dados de expressão corretamente filtrado, com tamanho {seqdata_clean.shape[1]}')\n"
   ],
   "id": "36b507db3181523c",
   "outputs": [
    {
     "name": "stdout",
     "output_type": "stream",
     "text": [
      "data set de dados de expressão corretamente filtrado, com tamanho 248\n"
     ]
    }
   ],
   "execution_count": 98
  },
  {
   "metadata": {
    "ExecuteTime": {
     "end_time": "2024-05-11T15:03:45.888853Z",
     "start_time": "2024-05-11T15:03:45.880031Z"
    }
   },
   "cell_type": "code",
   "source": [
    "smoke_status = pandas.read_csv('./dataset/fumo.csv')\n",
    "\n",
    "smoke_status = smoke_status.rename(columns={\n",
    "    'data.paper_Smoking.Status' : 'Smoke Habits',\n",
    "    'data.years_smoked' : 'Years Smoked'})\n",
    "\n",
    "smoke_status.drop(columns=['Unnamed: 0'], inplace=True)\n",
    "smoke_status['barcode'] = meta.index\n",
    "\n",
    "# Filtramos por Smoke Habits\n",
    "smoke_status.isna().any()\n",
    "smoke_status_clean = smoke_status[(smoke_status['Smoke Habits'].notna()) & (smoke_status['Smoke Habits'] != '[Not Available]')]\n",
    "smoke_status_clean = smoke_status_clean[['barcode', 'Smoke Habits', 'Years Smoked']]\n",
    "smoke_status_clean.head()"
   ],
   "id": "981d92746f68fee1",
   "outputs": [
    {
     "data": {
      "text/plain": [
       "                        barcode                                 Smoke Habits  \\\n",
       "1  TCGA-55-7914-01A-11R-2170-07                               Current smoker   \n",
       "2  TCGA-95-7043-01A-11R-1949-07  Current reformed smoker for < or = 15 years   \n",
       "3  TCGA-73-4658-01A-01R-1755-07       Current reformed smoker for > 15 years   \n",
       "5  TCGA-55-7726-01A-11R-2170-07       Current reformed smoker for > 15 years   \n",
       "6  TCGA-44-6147-01A-11R-A278-07       Current reformed smoker for > 15 years   \n",
       "\n",
       "   Years Smoked  \n",
       "1           NaN  \n",
       "2          39.0  \n",
       "3           NaN  \n",
       "5          24.0  \n",
       "6           4.0  "
      ],
      "text/html": [
       "<div>\n",
       "<style scoped>\n",
       "    .dataframe tbody tr th:only-of-type {\n",
       "        vertical-align: middle;\n",
       "    }\n",
       "\n",
       "    .dataframe tbody tr th {\n",
       "        vertical-align: top;\n",
       "    }\n",
       "\n",
       "    .dataframe thead th {\n",
       "        text-align: right;\n",
       "    }\n",
       "</style>\n",
       "<table border=\"1\" class=\"dataframe\">\n",
       "  <thead>\n",
       "    <tr style=\"text-align: right;\">\n",
       "      <th></th>\n",
       "      <th>barcode</th>\n",
       "      <th>Smoke Habits</th>\n",
       "      <th>Years Smoked</th>\n",
       "    </tr>\n",
       "  </thead>\n",
       "  <tbody>\n",
       "    <tr>\n",
       "      <th>1</th>\n",
       "      <td>TCGA-55-7914-01A-11R-2170-07</td>\n",
       "      <td>Current smoker</td>\n",
       "      <td>NaN</td>\n",
       "    </tr>\n",
       "    <tr>\n",
       "      <th>2</th>\n",
       "      <td>TCGA-95-7043-01A-11R-1949-07</td>\n",
       "      <td>Current reformed smoker for &lt; or = 15 years</td>\n",
       "      <td>39.0</td>\n",
       "    </tr>\n",
       "    <tr>\n",
       "      <th>3</th>\n",
       "      <td>TCGA-73-4658-01A-01R-1755-07</td>\n",
       "      <td>Current reformed smoker for &gt; 15 years</td>\n",
       "      <td>NaN</td>\n",
       "    </tr>\n",
       "    <tr>\n",
       "      <th>5</th>\n",
       "      <td>TCGA-55-7726-01A-11R-2170-07</td>\n",
       "      <td>Current reformed smoker for &gt; 15 years</td>\n",
       "      <td>24.0</td>\n",
       "    </tr>\n",
       "    <tr>\n",
       "      <th>6</th>\n",
       "      <td>TCGA-44-6147-01A-11R-A278-07</td>\n",
       "      <td>Current reformed smoker for &gt; 15 years</td>\n",
       "      <td>4.0</td>\n",
       "    </tr>\n",
       "  </tbody>\n",
       "</table>\n",
       "</div>"
      ]
     },
     "execution_count": 99,
     "metadata": {},
     "output_type": "execute_result"
    }
   ],
   "execution_count": 99
  },
  {
   "metadata": {
    "ExecuteTime": {
     "end_time": "2024-05-11T15:03:45.899529Z",
     "start_time": "2024-05-11T15:03:45.888853Z"
    }
   },
   "cell_type": "code",
   "source": [
    "vital = pandas.read_csv('./dataset/vital.csv')\n",
    "\n",
    "vital.rename(columns={'data.barcode' : 'barcode', 'data.vital_status' : 'Vital Status'}, inplace=True)\n",
    "\n",
    "vital_vs_smoke = pandas.merge(\n",
    "    smoke_status_clean,\n",
    "    vital,\n",
    "    on = 'barcode',\n",
    "    how = 'inner'\n",
    ")\n",
    "\n",
    "vital_vs_smoke = vital_vs_smoke[['barcode', 'Smoke Habits', 'Years Smoked', 'Vital Status']]\n",
    "vital_vs_smoke['Smoke Habits'] = vital_vs_smoke['Smoke Habits'].replace(\n",
    "    {'Current reformed smoker for > 15 years' : 'EX > 15 y',\n",
    "    'Current reformed smoker for < or = 15 years' : 'EX <= 15 y',\n",
    "    'Current smoker': 'Smokes',\n",
    "    'Lifelong Non-smoker': 'Never smoked'\n",
    "})\n",
    "vital_vs_smoke"
   ],
   "id": "1f4bdd4ffbffd1b3",
   "outputs": [
    {
     "data": {
      "text/plain": [
       "                          barcode  Smoke Habits  Years Smoked Vital Status\n",
       "0    TCGA-55-7914-01A-11R-2170-07        Smokes           NaN         Dead\n",
       "1    TCGA-95-7043-01A-11R-1949-07    EX <= 15 y          39.0         Dead\n",
       "2    TCGA-73-4658-01A-01R-1755-07     EX > 15 y           NaN         Dead\n",
       "3    TCGA-55-7726-01A-11R-2170-07     EX > 15 y          24.0        Alive\n",
       "4    TCGA-44-6147-01A-11R-A278-07     EX > 15 y           4.0        Alive\n",
       "..                            ...           ...           ...          ...\n",
       "232  TCGA-78-7153-01A-11R-2039-07    EX <= 15 y          40.0        Alive\n",
       "233  TCGA-38-4628-01A-01R-1206-07  Never smoked           NaN         Dead\n",
       "234  TCGA-86-7713-01A-11R-2066-07  Never smoked           NaN        Alive\n",
       "235  TCGA-44-2662-01B-02R-A277-07     EX > 15 y          28.0        Alive\n",
       "236  TCGA-53-7626-01A-12R-2066-07    EX <= 15 y          35.0         Dead\n",
       "\n",
       "[237 rows x 4 columns]"
      ],
      "text/html": [
       "<div>\n",
       "<style scoped>\n",
       "    .dataframe tbody tr th:only-of-type {\n",
       "        vertical-align: middle;\n",
       "    }\n",
       "\n",
       "    .dataframe tbody tr th {\n",
       "        vertical-align: top;\n",
       "    }\n",
       "\n",
       "    .dataframe thead th {\n",
       "        text-align: right;\n",
       "    }\n",
       "</style>\n",
       "<table border=\"1\" class=\"dataframe\">\n",
       "  <thead>\n",
       "    <tr style=\"text-align: right;\">\n",
       "      <th></th>\n",
       "      <th>barcode</th>\n",
       "      <th>Smoke Habits</th>\n",
       "      <th>Years Smoked</th>\n",
       "      <th>Vital Status</th>\n",
       "    </tr>\n",
       "  </thead>\n",
       "  <tbody>\n",
       "    <tr>\n",
       "      <th>0</th>\n",
       "      <td>TCGA-55-7914-01A-11R-2170-07</td>\n",
       "      <td>Smokes</td>\n",
       "      <td>NaN</td>\n",
       "      <td>Dead</td>\n",
       "    </tr>\n",
       "    <tr>\n",
       "      <th>1</th>\n",
       "      <td>TCGA-95-7043-01A-11R-1949-07</td>\n",
       "      <td>EX &lt;= 15 y</td>\n",
       "      <td>39.0</td>\n",
       "      <td>Dead</td>\n",
       "    </tr>\n",
       "    <tr>\n",
       "      <th>2</th>\n",
       "      <td>TCGA-73-4658-01A-01R-1755-07</td>\n",
       "      <td>EX &gt; 15 y</td>\n",
       "      <td>NaN</td>\n",
       "      <td>Dead</td>\n",
       "    </tr>\n",
       "    <tr>\n",
       "      <th>3</th>\n",
       "      <td>TCGA-55-7726-01A-11R-2170-07</td>\n",
       "      <td>EX &gt; 15 y</td>\n",
       "      <td>24.0</td>\n",
       "      <td>Alive</td>\n",
       "    </tr>\n",
       "    <tr>\n",
       "      <th>4</th>\n",
       "      <td>TCGA-44-6147-01A-11R-A278-07</td>\n",
       "      <td>EX &gt; 15 y</td>\n",
       "      <td>4.0</td>\n",
       "      <td>Alive</td>\n",
       "    </tr>\n",
       "    <tr>\n",
       "      <th>...</th>\n",
       "      <td>...</td>\n",
       "      <td>...</td>\n",
       "      <td>...</td>\n",
       "      <td>...</td>\n",
       "    </tr>\n",
       "    <tr>\n",
       "      <th>232</th>\n",
       "      <td>TCGA-78-7153-01A-11R-2039-07</td>\n",
       "      <td>EX &lt;= 15 y</td>\n",
       "      <td>40.0</td>\n",
       "      <td>Alive</td>\n",
       "    </tr>\n",
       "    <tr>\n",
       "      <th>233</th>\n",
       "      <td>TCGA-38-4628-01A-01R-1206-07</td>\n",
       "      <td>Never smoked</td>\n",
       "      <td>NaN</td>\n",
       "      <td>Dead</td>\n",
       "    </tr>\n",
       "    <tr>\n",
       "      <th>234</th>\n",
       "      <td>TCGA-86-7713-01A-11R-2066-07</td>\n",
       "      <td>Never smoked</td>\n",
       "      <td>NaN</td>\n",
       "      <td>Alive</td>\n",
       "    </tr>\n",
       "    <tr>\n",
       "      <th>235</th>\n",
       "      <td>TCGA-44-2662-01B-02R-A277-07</td>\n",
       "      <td>EX &gt; 15 y</td>\n",
       "      <td>28.0</td>\n",
       "      <td>Alive</td>\n",
       "    </tr>\n",
       "    <tr>\n",
       "      <th>236</th>\n",
       "      <td>TCGA-53-7626-01A-12R-2066-07</td>\n",
       "      <td>EX &lt;= 15 y</td>\n",
       "      <td>35.0</td>\n",
       "      <td>Dead</td>\n",
       "    </tr>\n",
       "  </tbody>\n",
       "</table>\n",
       "<p>237 rows × 4 columns</p>\n",
       "</div>"
      ]
     },
     "execution_count": 100,
     "metadata": {},
     "output_type": "execute_result"
    }
   ],
   "execution_count": 100
  },
  {
   "metadata": {
    "ExecuteTime": {
     "end_time": "2024-05-11T15:03:45.909198Z",
     "start_time": "2024-05-11T15:03:45.899529Z"
    }
   },
   "cell_type": "code",
   "source": [
    "stage = pandas.read_csv('./dataset/stage.csv')\n",
    "stage.drop(columns=['Unnamed: 0'], inplace=True)\n",
    "\n",
    "stage = stage.rename(columns={'data$paper_Tumor.stage' : 'Tumor Stage'})\n",
    "\n",
    "stage['barcode'] = meta.index\n",
    "\n",
    "print(f'encontrados {stage.iloc[:, 0].isna().sum()} valores omissos',\n",
    "           'foi criada uma versão filtrada')\n",
    "\n",
    "stage_clean = stage.dropna(how='any')\n",
    "stage_clean[stage_clean['barcode'].isin(meta.index)]\n",
    "stage_clean\n",
    "\n",
    "\n"
   ],
   "id": "72f0c4cd1352b539",
   "outputs": [
    {
     "name": "stdout",
     "output_type": "stream",
     "text": [
      "encontrados 352 valores omissos foi criada uma versão filtrada\n"
     ]
    },
    {
     "data": {
      "text/plain": [
       "    Tumor Stage                       barcode\n",
       "1     Stage IIA  TCGA-55-7914-01A-11R-2170-07\n",
       "2      Stage IA  TCGA-95-7043-01A-11R-1949-07\n",
       "3      Stage IB  TCGA-73-4658-01A-01R-1755-07\n",
       "5      Stage IA  TCGA-55-7726-01A-11R-2170-07\n",
       "6      Stage IA  TCGA-44-6147-01A-11R-A278-07\n",
       "..          ...                           ...\n",
       "588   Stage IIA  TCGA-50-5055-01A-01R-1628-07\n",
       "589   Stage IIB  TCGA-38-4628-01A-01R-1206-07\n",
       "591    Stage IB  TCGA-86-7713-01A-11R-2066-07\n",
       "593    Stage IB  TCGA-44-2662-01B-02R-A277-07\n",
       "595   Stage IIA  TCGA-53-7626-01A-12R-2066-07\n",
       "\n",
       "[248 rows x 2 columns]"
      ],
      "text/html": [
       "<div>\n",
       "<style scoped>\n",
       "    .dataframe tbody tr th:only-of-type {\n",
       "        vertical-align: middle;\n",
       "    }\n",
       "\n",
       "    .dataframe tbody tr th {\n",
       "        vertical-align: top;\n",
       "    }\n",
       "\n",
       "    .dataframe thead th {\n",
       "        text-align: right;\n",
       "    }\n",
       "</style>\n",
       "<table border=\"1\" class=\"dataframe\">\n",
       "  <thead>\n",
       "    <tr style=\"text-align: right;\">\n",
       "      <th></th>\n",
       "      <th>Tumor Stage</th>\n",
       "      <th>barcode</th>\n",
       "    </tr>\n",
       "  </thead>\n",
       "  <tbody>\n",
       "    <tr>\n",
       "      <th>1</th>\n",
       "      <td>Stage IIA</td>\n",
       "      <td>TCGA-55-7914-01A-11R-2170-07</td>\n",
       "    </tr>\n",
       "    <tr>\n",
       "      <th>2</th>\n",
       "      <td>Stage IA</td>\n",
       "      <td>TCGA-95-7043-01A-11R-1949-07</td>\n",
       "    </tr>\n",
       "    <tr>\n",
       "      <th>3</th>\n",
       "      <td>Stage IB</td>\n",
       "      <td>TCGA-73-4658-01A-01R-1755-07</td>\n",
       "    </tr>\n",
       "    <tr>\n",
       "      <th>5</th>\n",
       "      <td>Stage IA</td>\n",
       "      <td>TCGA-55-7726-01A-11R-2170-07</td>\n",
       "    </tr>\n",
       "    <tr>\n",
       "      <th>6</th>\n",
       "      <td>Stage IA</td>\n",
       "      <td>TCGA-44-6147-01A-11R-A278-07</td>\n",
       "    </tr>\n",
       "    <tr>\n",
       "      <th>...</th>\n",
       "      <td>...</td>\n",
       "      <td>...</td>\n",
       "    </tr>\n",
       "    <tr>\n",
       "      <th>588</th>\n",
       "      <td>Stage IIA</td>\n",
       "      <td>TCGA-50-5055-01A-01R-1628-07</td>\n",
       "    </tr>\n",
       "    <tr>\n",
       "      <th>589</th>\n",
       "      <td>Stage IIB</td>\n",
       "      <td>TCGA-38-4628-01A-01R-1206-07</td>\n",
       "    </tr>\n",
       "    <tr>\n",
       "      <th>591</th>\n",
       "      <td>Stage IB</td>\n",
       "      <td>TCGA-86-7713-01A-11R-2066-07</td>\n",
       "    </tr>\n",
       "    <tr>\n",
       "      <th>593</th>\n",
       "      <td>Stage IB</td>\n",
       "      <td>TCGA-44-2662-01B-02R-A277-07</td>\n",
       "    </tr>\n",
       "    <tr>\n",
       "      <th>595</th>\n",
       "      <td>Stage IIA</td>\n",
       "      <td>TCGA-53-7626-01A-12R-2066-07</td>\n",
       "    </tr>\n",
       "  </tbody>\n",
       "</table>\n",
       "<p>248 rows × 2 columns</p>\n",
       "</div>"
      ]
     },
     "execution_count": 101,
     "metadata": {},
     "output_type": "execute_result"
    }
   ],
   "execution_count": 101
  },
  {
   "metadata": {
    "ExecuteTime": {
     "end_time": "2024-05-11T15:03:45.996621Z",
     "start_time": "2024-05-11T15:03:45.909198Z"
    }
   },
   "cell_type": "code",
   "source": [
    "\"\"\"\n",
    "Gráficos a correlacionar:\n",
    "\n",
    "- smoke status com vital status?\n",
    "- vital status vs stage?\n",
    "\"\"\"\n",
    "import seaborn\n",
    "from matplotlib import pyplot\n",
    "\n",
    "# Equivalente a table(dados)\n",
    "vital_status = vital['Vital Status'].value_counts()\n",
    "#vital_status\n",
    "\n",
    "seaborn.barplot(x = vital_status.index, y = vital_status.values)"
   ],
   "id": "39fb873f8ace971e",
   "outputs": [
    {
     "data": {
      "text/plain": [
       "<Axes: xlabel='Vital Status'>"
      ]
     },
     "execution_count": 102,
     "metadata": {},
     "output_type": "execute_result"
    },
    {
     "data": {
      "text/plain": [
       "<Figure size 640x480 with 1 Axes>"
      ],
      "image/png": "[encoded data removed]"
     },
     "metadata": {},
     "output_type": "display_data"
    }
   ],
   "execution_count": 102
  },
  {
   "cell_type": "code",
   "source": [],
   "metadata": {
    "collapsed": false,
    "ExecuteTime": {
     "end_time": "2024-05-11T15:03:45.999909Z",
     "start_time": "2024-05-11T15:03:45.997623Z"
    }
   },
   "id": "c9c52a34c3e545b4",
   "outputs": [],
   "execution_count": 102
  },
  {
   "metadata": {
    "ExecuteTime": {
     "end_time": "2024-05-11T15:03:46.101380Z",
     "start_time": "2024-05-11T15:03:45.999909Z"
    }
   },
   "cell_type": "code",
   "source": [
    "smoke_habit = smoke_status_clean['Smoke Habits'].value_counts()\n",
    "smoke_habit = smoke_habit.rename({\n",
    "    'Current reformed smoker for > 15 years': 'EX > 15 y',\n",
    "    'Current reformed smoker for < or = 15 years': 'EX <= 15 y',\n",
    "    'Current smoker' : 'Smokes',\n",
    "    'Lifelong Non-smoker' : 'Never smoked',\n",
    "})\n",
    "\n",
    "seaborn.barplot(x = smoke_habit.index, y = smoke_habit.values)"
   ],
   "id": "6dc3f5257859825c",
   "outputs": [
    {
     "data": {
      "text/plain": [
       "<Axes: xlabel='Smoke Habits'>"
      ]
     },
     "execution_count": 103,
     "metadata": {},
     "output_type": "execute_result"
    },
    {
     "data": {
      "text/plain": [
       "<Figure size 640x480 with 1 Axes>"
      ],
      "image/png": "[encoded data removed]"
     },
     "metadata": {},
     "output_type": "display_data"
    }
   ],
   "execution_count": 103
  },
  {
   "cell_type": "code",
   "source": [
    "gender = meta['gender'].value_counts()\n",
    "seaborn.barplot(x = gender.index, y = gender.values)"
   ],
   "metadata": {
    "collapsed": false,
    "ExecuteTime": {
     "end_time": "2024-05-11T15:03:46.181924Z",
     "start_time": "2024-05-11T15:03:46.101380Z"
    }
   },
   "id": "d64bf5d1d2712ca9",
   "outputs": [
    {
     "data": {
      "text/plain": [
       "<Axes: xlabel='gender'>"
      ]
     },
     "execution_count": 104,
     "metadata": {},
     "output_type": "execute_result"
    },
    {
     "data": {
      "text/plain": [
       "<Figure size 640x480 with 1 Axes>"
      ],
      "image/png": "[encoded data removed]"
     },
     "metadata": {},
     "output_type": "display_data"
    }
   ],
   "execution_count": 104
  },
  {
   "cell_type": "code",
   "source": [
    "# Corre fumo com vital\n",
    "import scipy.stats as stats\n",
    "\n",
    "contingency_table = pandas.crosstab(vital_vs_smoke['Vital Status'], vital_vs_smoke['Smoke Habits'])\n",
    "alpha = 0.05\n",
    "chi2, p, dof, expected = stats.chi2_contingency(contingency_table)\n",
    "print(f'Estatística de teste:{chi2}',\n",
    "      f'Graus de liberdade:{dof}',\n",
    "      f'Valor de prova:{p}',\n",
    "      f'Para alfa = {0.05}:',\n",
    "      sep = '\\n')\n",
    "\n",
    "# para 95% IC\n",
    "if p < 0.05:\n",
    "    print('É plausível considerar correlação')\n",
    "    \n",
    "else:\n",
    "    print('Não é plausível considerar correlação')\n",
    "\n",
    "seaborn.countplot(x='Smoke Habits', hue = 'Vital Status', data = vital_vs_smoke)\n",
    "pyplot.title('Distribuição de Estado Vital vs Hábitos de Fumo')\n",
    "pyplot.xlabel('Hábitos de Fumo')\n",
    "pyplot.ylabel('Contagem')\n",
    "pyplot.legend(title = 'Estado Vital')\n",
    "pyplot.show()\n",
    "\n",
    "\n",
    "    "
   ],
   "metadata": {
    "collapsed": false,
    "ExecuteTime": {
     "end_time": "2024-05-11T15:03:46.303184Z",
     "start_time": "2024-05-11T15:03:46.181924Z"
    }
   },
   "id": "fac19ce15eaa1134",
   "outputs": [
    {
     "name": "stdout",
     "output_type": "stream",
     "text": [
      "Estatística de teste:2.954414510442226\n",
      "Graus de liberdade:3\n",
      "Valor de prova:0.3987070944866199\n",
      "Para alfa = 0.05:\n",
      "Não é plausível considerar correlação\n"
     ]
    },
    {
     "data": {
      "text/plain": [
       "<Figure size 640x480 with 1 Axes>"
      ],
      "image/png": "[encoded data removed]"
     },
     "metadata": {},
     "output_type": "display_data"
    }
   ],
   "execution_count": 105
  },
  {
   "cell_type": "code",
   "source": [
    "\n",
    "# Pipeline\n",
    "# https://pydeseq2.readthedocs.io/en/latest/auto_examples/plot_pandas_io_example.html\n",
    "# https://pydeseq2.readthedocs.io/en/latest/auto_examples/plot_step_by_step.html\n",
    "\n",
    "import pickle\n",
    "from pydeseq2.dds import DeseqDataSet\n",
    "from pydeseq2.default_inference import DefaultInference\n",
    "from pydeseq2.ds import DeseqStats"
   ],
   "metadata": {
    "collapsed": false,
    "ExecuteTime": {
     "end_time": "2024-05-11T15:03:46.306348Z",
     "start_time": "2024-05-11T15:03:46.303184Z"
    }
   },
   "id": "e8834ec334e5c378",
   "outputs": [],
   "execution_count": 106
  },
  {
   "cell_type": "code",
   "source": [
    "\n",
    "counts = seqdata_clean\n",
    "counts_df = counts.T\n",
    "metadata = meta_clean[['expr']]\n",
    "# Verificar se dados correspondem\n",
    "if (counts_df.index == meta_clean.index).all():\n",
    "    print('dados correspondem corretamente')\n",
    "\n",
    "genes_to_keep = counts_df.columns[counts_df.sum(axis=0) >= 10]\n",
    "counts_df = counts_df[genes_to_keep]\n",
    "\n",
    "inference = DefaultInference(n_cpus=8)\n",
    "\n"
   ],
   "metadata": {
    "collapsed": false,
    "ExecuteTime": {
     "end_time": "2024-05-11T15:03:46.382703Z",
     "start_time": "2024-05-11T15:03:46.306348Z"
    }
   },
   "id": "972a78713ad11c0c",
   "outputs": [
    {
     "name": "stdout",
     "output_type": "stream",
     "text": [
      "dados correspondem corretamente\n"
     ]
    }
   ],
   "execution_count": 107
  },
  {
   "cell_type": "code",
   "source": [
    "dds = DeseqDataSet(\n",
    "    counts = counts_df,\n",
    "    metadata = metadata,\n",
    "    design_factors='expr',\n",
    "    refit_cooks=True,\n",
    "    inference = inference\n",
    ")\n",
    "\n",
    "dds.deseq2()\n"
   ],
   "metadata": {
    "collapsed": false,
    "ExecuteTime": {
     "end_time": "2024-05-11T15:04:27.695275Z",
     "start_time": "2024-05-11T15:03:46.382703Z"
    }
   },
   "id": "e50b4cbc39bc4773",
   "outputs": [
    {
     "name": "stderr",
     "output_type": "stream",
     "text": [
      "Fitting size factors...\n",
      "... done in 0.67 seconds.\n",
      "\n",
      "Fitting dispersions...\n",
      "... done in 8.80 seconds.\n",
      "\n",
      "Fitting dispersion trend curve...\n",
      "... done in 0.73 seconds.\n",
      "\n",
      "Fitting MAP dispersions...\n",
      "... done in 8.74 seconds.\n",
      "\n",
      "Fitting LFCs...\n",
      "... done in 5.84 seconds.\n",
      "\n",
      "Replacing 8916 outlier genes.\n",
      "\n",
      "Fitting dispersions...\n",
      "... done in 1.38 seconds.\n",
      "\n",
      "Fitting MAP dispersions...\n",
      "... done in 1.33 seconds.\n",
      "\n",
      "Fitting LFCs...\n",
      "... done in 1.13 seconds.\n",
      "\n"
     ]
    }
   ],
   "execution_count": 108
  },
  {
   "cell_type": "code",
   "source": [
    "print(dds)"
   ],
   "metadata": {
    "collapsed": false,
    "ExecuteTime": {
     "end_time": "2024-05-11T15:04:27.698618Z",
     "start_time": "2024-05-11T15:04:27.696277Z"
    }
   },
   "id": "8e510cdc9095cf0d",
   "outputs": [
    {
     "name": "stdout",
     "output_type": "stream",
     "text": [
      "AnnData object with n_obs × n_vars = 248 × 52310\n",
      "    obs: 'expr'\n",
      "    uns: 'trend_coeffs', 'disp_function_type', '_squared_logres', 'prior_disp_var'\n",
      "    obsm: 'design_matrix', 'size_factors', 'replaceable'\n",
      "    varm: 'non_zero', '_MoM_dispersions', 'genewise_dispersions', '_genewise_converged', '_normed_means', 'fitted_dispersions', 'MAP_dispersions', '_MAP_converged', 'dispersions', '_outlier_genes', 'LFC', '_LFC_converged', 'replaced', 'refitted'\n",
      "    layers: 'normed_counts', '_mu_hat', '_mu_LFC', '_hat_diagonals', 'cooks', 'replace_cooks'\n"
     ]
    }
   ],
   "execution_count": 109
  },
  {
   "cell_type": "code",
   "source": [
    "# Guardar para acelerar o processo mais á frente com o load (estilo RDA/RDS)\n",
    "# open(\"dds.pkl\", \"wb\") as f:\n",
    "#    pickle.dump(dds, f)\n",
    "    \n",
    "# \n",
    "#with open('dds.pkl', 'rb') as f:\n",
    "#    pickle.load(f)"
   ],
   "metadata": {
    "collapsed": false,
    "ExecuteTime": {
     "end_time": "2024-05-11T15:04:28.584595Z",
     "start_time": "2024-05-11T15:04:27.698618Z"
    }
   },
   "id": "442581867e575e34",
   "outputs": [],
   "execution_count": 110
  },
  {
   "metadata": {
    "ExecuteTime": {
     "end_time": "2024-05-11T15:04:55.013569Z",
     "start_time": "2024-05-11T15:04:55.010238Z"
    }
   },
   "cell_type": "code",
   "source": "dds.varm[\"dispersions\"]",
   "id": "28652416cfa13e4c",
   "outputs": [
    {
     "data": {
      "text/plain": [
       "array([0.24109243, 4.63594369, 0.16680929, ..., 0.2182571 , 0.21828831,\n",
       "       0.29929392])"
      ]
     },
     "execution_count": 115,
     "metadata": {},
     "output_type": "execute_result"
    }
   ],
   "execution_count": 115
  },
  {
   "cell_type": "code",
   "source": [
    "dds.varm['LFC']"
   ],
   "metadata": {
    "collapsed": false,
    "ExecuteTime": {
     "end_time": "2024-05-11T15:05:17.529547Z",
     "start_time": "2024-05-11T15:05:17.524116Z"
    }
   },
   "id": "13d770f7f3ee771d",
   "outputs": [
    {
     "data": {
      "text/plain": [
       "                 intercept  expr_prox.-inflam_vs_TRU  \\\n",
       "Genes                                                  \n",
       "TSPAN6            8.065153                  0.038609   \n",
       "TNMD              1.544555                  0.830857   \n",
       "DPM1              7.118708                  0.294265   \n",
       "SCYL3             6.709212                 -0.118642   \n",
       "C1orf112          5.606907                  0.502914   \n",
       "...                    ...                       ...   \n",
       "ENSG00000288667   0.406080                  0.280074   \n",
       "ENSG00000288669  -1.476283                  0.595990   \n",
       "ENSG00000288670   5.555485                 -0.115076   \n",
       "ENSG00000288674   1.881979                 -0.424776   \n",
       "ENSG00000288675   2.739309                 -0.127761   \n",
       "\n",
       "                 expr_prox.-prolif._vs_TRU  \n",
       "Genes                                       \n",
       "TSPAN6                            0.166654  \n",
       "TNMD                              0.321819  \n",
       "DPM1                              0.324479  \n",
       "SCYL3                            -0.046035  \n",
       "C1orf112                          0.435259  \n",
       "...                                    ...  \n",
       "ENSG00000288667                  -1.755468  \n",
       "ENSG00000288669                  -0.035252  \n",
       "ENSG00000288670                   0.037997  \n",
       "ENSG00000288674                  -0.287338  \n",
       "ENSG00000288675                  -0.232859  \n",
       "\n",
       "[52310 rows x 3 columns]"
      ],
      "text/html": [
       "<div>\n",
       "<style scoped>\n",
       "    .dataframe tbody tr th:only-of-type {\n",
       "        vertical-align: middle;\n",
       "    }\n",
       "\n",
       "    .dataframe tbody tr th {\n",
       "        vertical-align: top;\n",
       "    }\n",
       "\n",
       "    .dataframe thead th {\n",
       "        text-align: right;\n",
       "    }\n",
       "</style>\n",
       "<table border=\"1\" class=\"dataframe\">\n",
       "  <thead>\n",
       "    <tr style=\"text-align: right;\">\n",
       "      <th></th>\n",
       "      <th>intercept</th>\n",
       "      <th>expr_prox.-inflam_vs_TRU</th>\n",
       "      <th>expr_prox.-prolif._vs_TRU</th>\n",
       "    </tr>\n",
       "    <tr>\n",
       "      <th>Genes</th>\n",
       "      <th></th>\n",
       "      <th></th>\n",
       "      <th></th>\n",
       "    </tr>\n",
       "  </thead>\n",
       "  <tbody>\n",
       "    <tr>\n",
       "      <th>TSPAN6</th>\n",
       "      <td>8.065153</td>\n",
       "      <td>0.038609</td>\n",
       "      <td>0.166654</td>\n",
       "    </tr>\n",
       "    <tr>\n",
       "      <th>TNMD</th>\n",
       "      <td>1.544555</td>\n",
       "      <td>0.830857</td>\n",
       "      <td>0.321819</td>\n",
       "    </tr>\n",
       "    <tr>\n",
       "      <th>DPM1</th>\n",
       "      <td>7.118708</td>\n",
       "      <td>0.294265</td>\n",
       "      <td>0.324479</td>\n",
       "    </tr>\n",
       "    <tr>\n",
       "      <th>SCYL3</th>\n",
       "      <td>6.709212</td>\n",
       "      <td>-0.118642</td>\n",
       "      <td>-0.046035</td>\n",
       "    </tr>\n",
       "    <tr>\n",
       "      <th>C1orf112</th>\n",
       "      <td>5.606907</td>\n",
       "      <td>0.502914</td>\n",
       "      <td>0.435259</td>\n",
       "    </tr>\n",
       "    <tr>\n",
       "      <th>...</th>\n",
       "      <td>...</td>\n",
       "      <td>...</td>\n",
       "      <td>...</td>\n",
       "    </tr>\n",
       "    <tr>\n",
       "      <th>ENSG00000288667</th>\n",
       "      <td>0.406080</td>\n",
       "      <td>0.280074</td>\n",
       "      <td>-1.755468</td>\n",
       "    </tr>\n",
       "    <tr>\n",
       "      <th>ENSG00000288669</th>\n",
       "      <td>-1.476283</td>\n",
       "      <td>0.595990</td>\n",
       "      <td>-0.035252</td>\n",
       "    </tr>\n",
       "    <tr>\n",
       "      <th>ENSG00000288670</th>\n",
       "      <td>5.555485</td>\n",
       "      <td>-0.115076</td>\n",
       "      <td>0.037997</td>\n",
       "    </tr>\n",
       "    <tr>\n",
       "      <th>ENSG00000288674</th>\n",
       "      <td>1.881979</td>\n",
       "      <td>-0.424776</td>\n",
       "      <td>-0.287338</td>\n",
       "    </tr>\n",
       "    <tr>\n",
       "      <th>ENSG00000288675</th>\n",
       "      <td>2.739309</td>\n",
       "      <td>-0.127761</td>\n",
       "      <td>-0.232859</td>\n",
       "    </tr>\n",
       "  </tbody>\n",
       "</table>\n",
       "<p>52310 rows × 3 columns</p>\n",
       "</div>"
      ]
     },
     "execution_count": 116,
     "metadata": {},
     "output_type": "execute_result"
    }
   ],
   "execution_count": 116
  },
  {
   "metadata": {
    "ExecuteTime": {
     "end_time": "2024-05-11T15:06:01.652709Z",
     "start_time": "2024-05-11T15:05:59.224861Z"
    }
   },
   "cell_type": "code",
   "source": [
    "stat_res = DeseqStats(dds, inference= inference)\n",
    "stat_res.summary()"
   ],
   "id": "5c581a67a8d593b9",
   "outputs": [
    {
     "name": "stderr",
     "output_type": "stream",
     "text": [
      "Running Wald tests...\n",
      "... done in 2.05 seconds.\n",
      "\n"
     ]
    },
    {
     "name": "stdout",
     "output_type": "stream",
     "text": [
      "Log2 fold change & Wald test p-value: expr prox.-inflam vs TRU\n",
      "                    baseMean  log2FoldChange     lfcSE      stat  \\\n",
      "Genes                                                              \n",
      "TSPAN6           3372.659142        0.055701  0.104359  0.533749   \n",
      "TNMD                7.405713        1.198674  0.465215  2.576601   \n",
      "DPM1             1505.153644        0.424534  0.086944  4.882840   \n",
      "SCYL3             778.112463       -0.171164  0.076256 -2.244583   \n",
      "C1orf112          373.207836        0.725551  0.097846  7.415237   \n",
      "...                      ...             ...       ...       ...   \n",
      "ENSG00000288667     1.368924        0.404061  0.983904  0.410671   \n",
      "ENSG00000288669     0.200104        0.859831  0.967010  0.889165   \n",
      "ENSG00000288670   251.434561       -0.166020  0.100246 -1.656119   \n",
      "ENSG00000288674     5.382479       -0.612823  0.136808 -4.479424   \n",
      "ENSG00000288675    13.979935       -0.184320  0.129677 -1.421377   \n",
      "\n",
      "                       pvalue          padj  \n",
      "Genes                                        \n",
      "TSPAN6           5.935155e-01  7.454922e-01  \n",
      "TNMD             9.977692e-03  3.704820e-02  \n",
      "DPM1             1.045686e-06  1.453755e-05  \n",
      "SCYL3            2.479493e-02  7.668913e-02  \n",
      "C1orf112         1.214076e-13  7.640707e-12  \n",
      "...                       ...           ...  \n",
      "ENSG00000288667  6.813137e-01  8.093612e-01  \n",
      "ENSG00000288669  3.739143e-01           NaN  \n",
      "ENSG00000288670  9.769780e-02  2.185077e-01  \n",
      "ENSG00000288674  7.484490e-06  8.083786e-05  \n",
      "ENSG00000288675  1.552072e-01  3.063888e-01  \n",
      "\n",
      "[52310 rows x 6 columns]\n"
     ]
    }
   ],
   "execution_count": 118
  },
  {
   "metadata": {},
   "cell_type": "code",
   "outputs": [],
   "execution_count": null,
   "source": "",
   "id": "7170ec2789a58cbd"
  }
 ],
 "metadata": {
  "kernelspec": {
   "display_name": "Python 3",
   "language": "python",
   "name": "python3"
  },
  "language_info": {
   "codemirror_mode": {
    "name": "ipython",
    "version": 2
   },
   "file_extension": ".py",
   "mimetype": "text/x-python",
   "name": "python",
   "nbconvert_exporter": "python",
   "pygments_lexer": "ipython2",
   "version": "2.7.6"
  }
 },
 "nbformat": 4,
 "nbformat_minor": 5
}
